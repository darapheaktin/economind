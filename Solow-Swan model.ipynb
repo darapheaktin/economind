{
 "cells": [
  {
   "cell_type": "code",
   "execution_count": 15,
   "metadata": {},
   "outputs": [],
   "source": [
    "import numpy as np\n",
    "import matplotlib.pyplot as plt\n",
    "%matplotlib inline\n",
    "import sympy as sp\n",
    "from sympy import pretty_print\n",
    "from textwrap import dedent\n",
    "from IPython.display import display\n",
    "from ipywidgets import interactive"
   ]
  },
  {
   "cell_type": "markdown",
   "metadata": {},
   "source": [
    "## Solow-Swan Model\n",
    "\n",
    "#### Aggregate Output Function and Transition Equations\n",
    "\n",
    "$$ Y_t = zK_t^\\alpha L_t^{1-\\alpha}$$\n",
    "\n",
    "where:\n",
    "$$\\begin{align}\n",
    "K_{t+1} &= sY_t - (n+d)K_t \\\\\n",
    "C_{t} &= (1-s)Y_t \\\\\n",
    "N_{t+1} &= (1+n)N_t\n",
    "\\end{align}$$\n",
    "\n",
    "#### Per capita Output Function and Transition Equations\n",
    "\n",
    "$$ y_t = zk_t^\\alpha$$\n",
    "\n",
    "where:\n",
    "$$\\begin{align}\n",
    "k_{t+1} &= \\frac{sy_t + (1-d)k_t}{1+n} \\\\\n",
    "c_{t} &= (1-s)y_t \\\\\n",
    "\\end{align}$$\n",
    "\n",
    "Next, we use `sympy` to solve analytically for the steady state values of output, capital and consumption per capita:"
   ]
  },
  {
   "cell_type": "code",
   "execution_count": 25,
   "metadata": {},
   "outputs": [
    {
     "data": {
      "text/plain": [
       "'Steady state per capita capital'"
      ]
     },
     "metadata": {},
     "output_type": "display_data"
    },
    {
     "data": {
      "image/png": "[encoded data removed]",
      "text/latex": [
       "$$\\left [ \\left(\\frac{s z}{d + n}\\right)^{- \\frac{1}{\\alpha - 1}}\\right ]$$"
      ],
      "text/plain": [
       "⎡        -1  ⎤\n",
       "⎢       ─────⎥\n",
       "⎢       α - 1⎥\n",
       "⎢⎛ s⋅z ⎞     ⎥\n",
       "⎢⎜─────⎟     ⎥\n",
       "⎣⎝d + n⎠     ⎦"
      ]
     },
     "metadata": {},
     "output_type": "display_data"
    },
    {
     "data": {
      "text/plain": [
       "[(s*z/(d + n))**(-1/(alpha - 1))]"
      ]
     },
     "metadata": {},
     "output_type": "display_data"
    }
   ],
   "source": [
    "# SOLVING FOR THE STEADY STATE VALUES\n",
    "## variables:\n",
    "y, k, c = sp.symbols('y, k, c')\n",
    "\n",
    "## parameters:\n",
    "z, s, d, n, alpha = sp.symbols('z, s, d, n, alpha')\n",
    "\n",
    "## capital per capita \n",
    "y = z*k**alpha\n",
    "kss = k - (s*y + (1-d)*k)/(1+n)\n",
    "\n",
    "init_printing(pretty_print=True)\n",
    "display(\"Steady state per capita capital\", solve(kss, k))\n",
    "init_printing(pretty_print=False)\n",
    "display(solve(kss, k))"
   ]
  },
  {
   "cell_type": "code",
   "execution_count": 27,
   "metadata": {},
   "outputs": [
    {
     "data": {
      "text/plain": [
       "'Steady state per capita output'"
      ]
     },
     "metadata": {},
     "output_type": "display_data"
    },
    {
     "data": {
      "image/png": "[encoded data removed]",
      "text/latex": [
       "$$\\left [ z \\left(\\left(\\frac{s z}{d + n}\\right)^{- \\frac{1}{\\alpha - 1}}\\right)^{\\alpha}\\right ]$$"
      ],
      "text/plain": [
       "⎡                α⎤\n",
       "⎢  ⎛        -1  ⎞ ⎥\n",
       "⎢  ⎜       ─────⎟ ⎥\n",
       "⎢  ⎜       α - 1⎟ ⎥\n",
       "⎢  ⎜⎛ s⋅z ⎞     ⎟ ⎥\n",
       "⎢z⋅⎜⎜─────⎟     ⎟ ⎥\n",
       "⎣  ⎝⎝d + n⎠     ⎠ ⎦"
      ]
     },
     "metadata": {},
     "output_type": "display_data"
    },
    {
     "data": {
      "text/plain": [
       "[z*((s*z/(d + n))**(-1/(alpha - 1)))**alpha]"
      ]
     },
     "metadata": {},
     "output_type": "display_data"
    }
   ],
   "source": [
    "## output per capita\n",
    "k = (s*z/(d + n))**(-1/(alpha - 1))\n",
    "yss = y - z*k**alpha\n",
    "\n",
    "init_printing(pretty_print=True)\n",
    "display(\"Steady state per capita output\" ,solve(yss, y))\n",
    "init_printing(pretty_print=False)\n",
    "display(solve(yss, y))"
   ]
  },
  {
   "cell_type": "code",
   "execution_count": 28,
   "metadata": {},
   "outputs": [
    {
     "data": {
      "text/plain": [
       "'Steady state per capita output'"
      ]
     },
     "metadata": {},
     "output_type": "display_data"
    },
    {
     "data": {
      "image/png": "[encoded data removed]",
      "text/latex": [
       "$$\\left [ z \\left(- s + 1\\right) \\left(\\left(\\frac{s z}{d + n}\\right)^{- \\frac{1}{\\alpha - 1}}\\right)^{\\alpha}\\right ]$$"
      ],
      "text/plain": [
       "⎡                         α⎤\n",
       "⎢           ⎛        -1  ⎞ ⎥\n",
       "⎢           ⎜       ─────⎟ ⎥\n",
       "⎢           ⎜       α - 1⎟ ⎥\n",
       "⎢           ⎜⎛ s⋅z ⎞     ⎟ ⎥\n",
       "⎢z⋅(-s + 1)⋅⎜⎜─────⎟     ⎟ ⎥\n",
       "⎣           ⎝⎝d + n⎠     ⎠ ⎦"
      ]
     },
     "metadata": {},
     "output_type": "display_data"
    },
    {
     "data": {
      "text/plain": [
       "[z*(-s + 1)*((s*z/(d + n))**(-1/(alpha - 1)))**alpha]"
      ]
     },
     "metadata": {},
     "output_type": "display_data"
    }
   ],
   "source": [
    "## consumption per capita\n",
    "y = z*((s*z/(d + n))**(-1/(alpha - 1)))**alpha\n",
    "CSS = c - (1-s)*y\n",
    "init_printing(pretty_print=True)\n",
    "display(\"Steady state per capita output\", solve(CSS, c))\n",
    "init_printing(pretty_print=False)\n",
    "display(solve(CSS, c))"
   ]
  },
  {
   "cell_type": "code",
   "execution_count": 233,
   "metadata": {},
   "outputs": [],
   "source": [
    "class SolowSwan():\n",
    "    \"\"\" SolowSwan Model Simulation \"\"\"\n",
    "    def __init__(self, z = 1.0, alpha = 0.33, L = 10, K = 10,\n",
    "                s = 0.2, d = 0.05, n = 0.02):\n",
    "        \"\"\" Model Initialization \"\"\"\n",
    "        # we admit only non-negative values\n",
    "        positive_array = np.array([z, alpha, L, K, s, d, n])\n",
    "        zeros = np.zeros(len(positive_array))\n",
    "        if np.any(np.less_equal(positive_array, zeros)):\n",
    "            raise ValueError(\"Only positive values admitted.\")\n",
    "        \n",
    "        # create class attributes for SolowSwan\n",
    "        self.z = z\n",
    "        self.alpha, self.beta = alpha, 1-alpha\n",
    "        self.L, self.K = L, K\n",
    "        self.s, self.d, self.n = s, d, n\n",
    "        \n",
    "    def __repr__(self):\n",
    "        \" Basic Information about the model \"\n",
    "        return self.__str__()\n",
    "    \n",
    "    def __str__(self):\n",
    "        message = \"\"\"Solow-Swan model with the following features:\n",
    "        - Capital (K) = {K}\n",
    "        - Labor (L) = {L}\n",
    "        - Total factor productivity = {z}\n",
    "        - Income share of Capital (alpha) = {alpha}\n",
    "        - Income share of Labor (beta) = {beta}\n",
    "        - Saving rate (s) = {s}\n",
    "        - Depreciation rate (d) = {d}\n",
    "        - Population growth rate (n) = {n}\"\"\"\n",
    "        \n",
    "        return dedent(message.format(K = self.K, L = self.L, z =self.z,\n",
    "                                    alpha = self.alpha, beta = self.beta,\n",
    "                                    s = self.s, d = self.d, n = self.n))\n",
    "    \n",
    "    def TotalOutput(self):\n",
    "        z, alpha, beta = self.z, self.alpha, self.beta\n",
    "        return z*(self.K**alpha)*(self.L**self.beta)\n",
    "    \n",
    "    def perCapOutput(self, k=None):\n",
    "        if k is None: \n",
    "            k = self.K/self.L\n",
    "        return self.z*k**self.alpha\n",
    "    \n",
    "    def ss_analytic(self):\n",
    "        z, alpha, beta, s, d, n = self.z, self.alpha, self.beta, self.s, self.d, self.n\n",
    "        kss = (s*z/(d + n))**(-1/(alpha - 1))\n",
    "        yss = z*kss**alpha\n",
    "        css = (1-s)*yss\n",
    "        # store values as attributes\n",
    "        self.kss, self.yss, self.css = kss, yss, css\n",
    "        \n",
    "        return kss, yss, css\n",
    "    \n",
    "    def ss_numerical(self, k0 = None, tol = 1e-4, maxiter=200):\n",
    "        \"\"\" Compute the steady state values via an iterative procedure \"\"\"\n",
    "        \n",
    "        z, alpha, beta, s, d, n = self.z, self.alpha, self.beta, self.s, self.d, self.n\n",
    "            \n",
    "        if k0 is None: \n",
    "            k0 = self.K/self.L\n",
    "            \n",
    "        y0 = self.perCapOutput(k0)\n",
    "            \n",
    "        error = 1\n",
    "        i = 0\n",
    "       \n",
    "        while i < maxiter and error > tol:\n",
    "            knext = (s*y0 + (1-d)*k0)/(1+n)\n",
    "            error = np.abs(knext-k0)\n",
    "            if error < tol:\n",
    "                break\n",
    "            k0 = knext\n",
    "            y0 = self.perCapOutput(k0)\n",
    "            i += 1\n",
    "        \n",
    "        kss = knext\n",
    "        yss = y0\n",
    "        css = (1-s)*yss\n",
    "        return kss, yss, css\n",
    "        \n",
    "    def next_value_generator(self, T, k0=None):\n",
    "        \"\"\" Create a generator for the transition paths of k, y and c\"\"\"\n",
    "        z, alpha, beta, s, d, n = self.z, self.alpha, self.beta, self.s, self.d, self.n\n",
    "         \n",
    "        ## if k0 is not provided, then adopt the ss value of k\n",
    "        if k0 is None:\n",
    "            k0 = self.K/self.L\n",
    "            \n",
    "        ## set initial values\n",
    "        k_next = k0\n",
    "        y_next = self.perCapOutput(k_next)\n",
    "        c_next = (1-s)*y_next\n",
    "        for t in range(T):\n",
    "            yield k_next, y_next, c_next\n",
    "            k_next = (s*y_next + (1-d)*k_next)/(1+n)\n",
    "            y_next = self.perCapOutput(k=k_next)\n",
    "            c_next = (1-s)*y_next\n",
    "            \n",
    "    def transition_paths(self, **kwargs):\n",
    "        \"\"\" Simulate transition paths using the next_value_generator module\"\"\"\n",
    "        z, alpha, beta, s, d, n = self.z, self.alpha, self.beta, self.s, self.d, self.n\n",
    "        \n",
    "        paths = np.array(list(self.next_value_generator(**kwargs)))\n",
    "        self.k_path = paths[:,0]\n",
    "        self.y_path = paths[:,1]\n",
    "        self.c_path = paths[:,2]\n",
    "        "
   ]
  },
  {
   "cell_type": "code",
   "execution_count": 182,
   "metadata": {},
   "outputs": [
    {
     "data": {
      "text/plain": [
       "array([ True,  True])"
      ]
     },
     "execution_count": 182,
     "metadata": {},
     "output_type": "execute_result"
    }
   ],
   "source": [
    "np.not_equal([1, 1],[0.,0.])"
   ]
  },
  {
   "cell_type": "code",
   "execution_count": 146,
   "metadata": {},
   "outputs": [
    {
     "data": {
      "text/plain": [
       "[1, 2, 3, 4, 5, 6, 7, 8, 9]"
      ]
     },
     "execution_count": 146,
     "metadata": {},
     "output_type": "execute_result"
    }
   ],
   "source": [
    "list(range(1,10))"
   ]
  },
  {
   "cell_type": "code",
   "execution_count": 220,
   "metadata": {},
   "outputs": [],
   "source": [
    "m = SolowSwan(z=3)"
   ]
  },
  {
   "cell_type": "code",
   "execution_count": 221,
   "metadata": {},
   "outputs": [
    {
     "data": {
      "text/plain": [
       "array([ 1.        ,  1.51960784,  2.09066104,  2.69750111,  3.32852554,\n",
       "        3.97486797,  4.62961207,  5.28728921,  5.94353882,  6.59486839,\n",
       "        7.23847763,  7.87212591,  8.49403   ,  9.10278357,  9.69729289,\n",
       "       10.27672474, 10.84046374, 11.38807715, 11.91928544, 12.43393774,\n",
       "       12.93199104, 13.41349267, 13.87856531, 14.32739431, 14.76021678,\n",
       "       15.17731223, 15.57899467, 15.96560566, 16.33750845, 16.69508291,\n",
       "       17.03872122, 17.36882408, 17.68579758, 17.99005044, 18.2819917 ,\n",
       "       18.56202875, 18.83056566, 19.08800176, 19.33473048, 19.57113841,\n",
       "       19.79760443, 20.01449915, 20.22218434, 20.42101255, 20.61132681,\n",
       "       20.79346045, 20.96773691, 21.13446972, 21.29396243, 21.44650871,\n",
       "       21.59239236, 21.73188745, 21.86525844, 21.99276035, 22.11463892,\n",
       "       22.23113083, 22.34246391, 22.44885731, 22.55052179, 22.64765992,\n",
       "       22.74046632, 22.8291279 , 22.91382408, 22.99472709, 23.07200214,\n",
       "       23.14580768, 23.21629566, 23.28361172, 23.34789542, 23.40928051,\n",
       "       23.46789507, 23.52386179, 23.57729814, 23.62831658, 23.67702473,\n",
       "       23.72352562, 23.7679178 , 23.81029557, 23.85074915, 23.8893648 ,\n",
       "       23.92622504, 23.96140876, 23.99499139, 24.02704504, 24.05763865,\n",
       "       24.08683812, 24.1147064 , 24.14130368, 24.16668745, 24.19091268,\n",
       "       24.21403185, 24.23609511, 24.25715037, 24.2772434 , 24.29641791,\n",
       "       24.31471565, 24.33217649, 24.34883852, 24.3647381 , 24.37990995])"
      ]
     },
     "execution_count": 221,
     "metadata": {},
     "output_type": "execute_result"
    }
   ],
   "source": [
    "m.transition_paths(T=100)\n",
    "m.k_path"
   ]
  },
  {
   "cell_type": "code",
   "execution_count": 222,
   "metadata": {},
   "outputs": [
    {
     "data": {
      "text/plain": [
       "(24.69543792333115, 8.643403273165902, 6.914722618532721)"
      ]
     },
     "execution_count": 222,
     "metadata": {},
     "output_type": "execute_result"
    }
   ],
   "source": [
    "m.ss_analytic()"
   ]
  },
  {
   "cell_type": "code",
   "execution_count": 223,
   "metadata": {},
   "outputs": [
    {
     "data": {
      "text/plain": [
       "(24.692713458647063, 8.64308858586437, 6.914470868691495)"
      ]
     },
     "execution_count": 223,
     "metadata": {},
     "output_type": "execute_result"
    }
   ],
   "source": [
    "m.ss_numerical()"
   ]
  },
  {
   "cell_type": "code",
   "execution_count": 234,
   "metadata": {},
   "outputs": [
    {
     "data": {
      "image/png": "[encoded data removed]",
      "text/plain": [
       "<Figure size 1080x1440 with 3 Axes>"
      ]
     },
     "metadata": {},
     "output_type": "display_data"
    }
   ],
   "source": [
    "## Visualization\n",
    "\n",
    "m = SolowSwan()\n",
    "fig, (ax1, ax2, ax3) = plt.subplots(3, 1, figsize=(15, 20))\n",
    "\n",
    "ss = m.ss_analytic() # this generates 3 ss values for m instance\n",
    "\n",
    "kss_path = np.array([m.kss,]*50)\n",
    "yss_path = np.array([m.yss,]*50)\n",
    "css_path = np.array([m.css,]*50)\n",
    "\n",
    "plt.rcParams['axes.xmargin'] = 0.01\n",
    "plt.rcParams['axes.ymargin'] = 0.01\n",
    "plt.style.use('seaborn-whitegrid')\n",
    "\n",
    "\n",
    "for z in [0.1, 0.5, 1.0, 1.5, 2]:\n",
    "    m.z = z\n",
    "    m.transition_paths(T=100, k0=m.kss);\n",
    "    ## ax.plot(np.array([kss_path, m.k_path]).flatten())\n",
    "    k_series = np.concatenate((kss_path, m.k_path), axis=0)\n",
    "    y_series = np.concatenate((yss_path, m.y_path), axis=0)\n",
    "    c_series = np.concatenate((css_path, m.c_path), axis=0)\n",
    "    ax1.plot(k_series, label=f\"$k_t$, z = {z}\", alpha=3)\n",
    "    ax2.plot(y_series, label=f\"$y_t$, z = {z}\", alpha=3)\n",
    "    ax3.plot(c_series, label=f\"$c_t$, z = {z}\", alpha=3)\n",
    "    \n",
    "ax_list = (ax1, ax2, ax3)\n",
    "ylabel_list = ('k', 'y', 'c')\n",
    "for ax, i in zip(ax_list, ylabel_list):\n",
    "    ax.set_xlabel(\"Time, t\")\n",
    "    ax.set_ylabel(\"f${i}_t$\")\n",
    "    ax.legend(loc=\"upper left\", fontsize=10)\n",
    "    ax.set_ylim(0,20)\n",
    "    \n",
    "ax1.set_title(\"Capital (equilibrium) Transition Path\")\n",
    "ax2.set_title(\"Output (equilibrium) Transition Path\")\n",
    "ax3.set_title(\"Consumption (equilibrium) Transition Path\")\n",
    "\n",
    "plt.show()\n"
   ]
  },
  {
   "cell_type": "code",
   "execution_count": 250,
   "metadata": {},
   "outputs": [],
   "source": [
    "def plotting(z=1, alpha=0.33, s=0.2, d=0.05, n=0.02):\n",
    "    m = SolowSwan()\n",
    "    fig, (ax1, ax2, ax3) = plt.subplots(3, 1, figsize=(15, 20))\n",
    "    ss = m.ss_analytic() # this generates 3 ss values for m instance\n",
    "\n",
    "    kss_path = np.array([m.kss,]*50)\n",
    "    yss_path = np.array([m.yss,]*50)\n",
    "    css_path = np.array([m.css,]*50)\n",
    "\n",
    "    plt.rcParams['axes.xmargin'] = 0.01\n",
    "    plt.rcParams['axes.ymargin'] = 0.01\n",
    "    plt.style.use('seaborn-whitegrid')\n",
    "\n",
    "    # introduce shock\n",
    "    m.z, m.alpha = z, alpha\n",
    "    m.s, m.d, m.n = s, d, n\n",
    "    m.transition_paths(T=100, k0=m.kss);\n",
    "    ## ax.plot(np.array([kss_path, m.k_path]).flatten())\n",
    "    k_series = np.concatenate((kss_path, m.k_path), axis=0)\n",
    "    y_series = np.concatenate((yss_path, m.y_path), axis=0)\n",
    "    c_series = np.concatenate((css_path, m.c_path), axis=0)\n",
    "    ax1.plot(k_series, label=f\"$k_t$, z = {z}\", alpha=3)\n",
    "    ax2.plot(y_series, label=f\"$y_t$, z = {z}\", alpha=3)\n",
    "    ax3.plot(c_series, label=f\"$c_t$, z = {z}\", alpha=3)\n",
    "    \n",
    "    ax_list = (ax1, ax2, ax3)\n",
    "    ylabel_list = ('k', 'y', 'c')\n",
    "    for ax, i in zip(ax_list, ylabel_list):\n",
    "        ax.set_xlabel(\"Time, t\")\n",
    "        ax.set_ylabel(\"f${i}_t$\")\n",
    "        ax.legend(loc=\"upper left\", fontsize=10)\n",
    "        ax.set_ylim(0,20)\n",
    "    \n",
    "    ax1.set_title(\"Capital (equilibrium) Transition Path\")\n",
    "    ax2.set_title(\"Output (equilibrium) Transition Path\")\n",
    "    ax3.set_title(\"Consumption (equilibrium) Transition Path\")\n",
    "\n",
    "    plt.show()"
   ]
  },
  {
   "cell_type": "code",
   "execution_count": 251,
   "metadata": {},
   "outputs": [
    {
     "data": {
      "application/vnd.jupyter.widget-view+json": {
       "model_id": "2199fdb098f34d2eaf324df4657ce748",
       "version_major": 2,
       "version_minor": 0
      },
      "text/plain": [
       "interactive(children=(FloatSlider(value=1.0, description='z', max=3.0, min=0.1), FloatSlider(value=0.33, descr…"
      ]
     },
     "metadata": {},
     "output_type": "display_data"
    }
   ],
   "source": [
    "interactive_plot = interactive(plotting, z=(0.1,3,0.1), \n",
    "                               alpha=(0.1, 1, 0.1),\n",
    "                               L=(5,100,1), \n",
    "                               K=(5,500,10),\n",
    "                               s=(0.1,0.9,0.1),\n",
    "                               d=(0.01,0.9,0.1),\n",
    "                               n=(0.01,0.3,0.01))\n",
    "interactive_plot"
   ]
  },
  {
   "cell_type": "code",
   "execution_count": null,
   "metadata": {},
   "outputs": [],
   "source": []
  }
 ],
 "metadata": {
  "kernelspec": {
   "display_name": "Python 3",
   "language": "python",
   "name": "python3"
  },
  "language_info": {
   "codemirror_mode": {
    "name": "ipython",
    "version": 3
   },
   "file_extension": ".py",
   "mimetype": "text/x-python",
   "name": "python",
   "nbconvert_exporter": "python",
   "pygments_lexer": "ipython3",
   "version": "3.7.3"
  }
 },
 "nbformat": 4,
 "nbformat_minor": 2
}
